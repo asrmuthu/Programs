{
 "cells": [
  {
   "cell_type": "code",
   "execution_count": null,
   "id": "644a9dbb",
   "metadata": {},
   "outputs": [
    {
     "name": "stdout",
     "output_type": "stream",
     "text": [
      "d:\\Code\\Developer\\Programs\\Python_udemy\\Basic\n"
     ]
    }
   ],
   "source": [
    "import os\n",
    "print(os.getcwd())  # Get current working directory\n",
    "os.mkdir('new_directory')  # Create a new directory"
   ]
  },
  {
   "cell_type": "code",
   "execution_count": 7,
   "id": "6f145a5f",
   "metadata": {},
   "outputs": [
    {
     "data": {
      "text/plain": [
       "'destination.txt'"
      ]
     },
     "execution_count": 7,
     "metadata": {},
     "output_type": "execute_result"
    }
   ],
   "source": [
    "import shutil\n",
    "shutil.copyfile('source.txt', 'destination.txt')  # Copy file"
   ]
  },
  {
   "cell_type": "code",
   "execution_count": 9,
   "id": "c93e055e",
   "metadata": {},
   "outputs": [
    {
     "name": "stdout",
     "output_type": "stream",
     "text": [
      "{\"name\": \"Raj\", \"age\": 30}\n",
      "{'name': 'Raj', 'age': 30}\n"
     ]
    }
   ],
   "source": [
    "import json\n",
    "data = {\"name\": \"Raj\", \"age\": 30}\n",
    "json_str = json.dumps(data)\n",
    "print(json_str)\n",
    "\n",
    "parsed_data = json.loads(json_str)\n",
    "print(parsed_data)"
   ]
  },
  {
   "cell_type": "code",
   "execution_count": 11,
   "id": "a212b7ad",
   "metadata": {},
   "outputs": [
    {
     "name": "stdout",
     "output_type": "stream",
     "text": [
      "['Name', 'Age']\n",
      "['Raj', '30']\n",
      "['Sita', '25']\n"
     ]
    }
   ],
   "source": [
    "import csv\n",
    "with open('data.csv', mode='w', newline='') as file:\n",
    "    writer = csv.writer(file)\n",
    "    writer.writerow(['Name', 'Age'])\n",
    "    writer.writerow(['Raj', 30])\n",
    "    writer.writerow(['Sita', 25])\n",
    "with open('data.csv', mode='r') as file:\n",
    "    reader = csv.reader(file)\n",
    "    for row in reader:\n",
    "        print(row)"
   ]
  }
 ],
 "metadata": {
  "kernelspec": {
   "display_name": "Python 3",
   "language": "python",
   "name": "python3"
  },
  "language_info": {
   "codemirror_mode": {
    "name": "ipython",
    "version": 3
   },
   "file_extension": ".py",
   "mimetype": "text/x-python",
   "name": "python",
   "nbconvert_exporter": "python",
   "pygments_lexer": "ipython3",
   "version": "3.13.0"
  }
 },
 "nbformat": 4,
 "nbformat_minor": 5
}
