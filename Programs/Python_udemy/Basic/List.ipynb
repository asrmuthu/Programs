{
 "cells": [
  {
   "cell_type": "code",
   "execution_count": 38,
   "id": "fa69172d",
   "metadata": {},
   "outputs": [
    {
     "name": "stdout",
     "output_type": "stream",
     "text": [
      "['muthu', 1, 2.5, True, None, 10, 'final']\n",
      "['muthu', 'inserted_item', 2.5, True, None, 10, 'final', 'new_item']\n",
      "['updated_name', 'inserted_item', 2.5, True, None, 10, 'final']\n",
      "[2.5, True, None, 10, 'final']\n",
      "['inserted_item', 2.5, True]\n",
      "final\n",
      "['final', 10, None, True, 2.5, 'inserted_item', 'updated_name']\n",
      "[None, True, 2.5, 'inserted_item', 'updated_name']\n",
      "['final', 10, None]\n",
      "[None, True, 2.5, 'inserted_item']\n",
      "['final', 10, None, True, 2.5, 'inserted_item', 'updated_name']\n",
      "['final', True, 'updated_name']\n"
     ]
    }
   ],
   "source": [
    "name = [\"muthu\", 1, 2.5, True, None, 10, \"final\"]\n",
    "print(name)\n",
    "name.append(\"new_item\")\n",
    "name.insert(2, \"inserted_item\")\n",
    "name.remove(1)\n",
    "print(name)\n",
    "name.pop()\n",
    "name[0] = \"updated_name\"\n",
    "print(name)\n",
    "print(name[2:])\n",
    "print(name[1:4])\n",
    "print(name[-1])\n",
    "name.reverse()\n",
    "print(name)\n",
    "print(name[2:])\n",
    "print(name[:3])\n",
    "print(name[2:6])\n",
    "print(name)\n",
    "print(name[::3])"
   ]
  }
 ],
 "metadata": {
  "kernelspec": {
   "display_name": "Python 3",
   "language": "python",
   "name": "python3"
  },
  "language_info": {
   "codemirror_mode": {
    "name": "ipython",
    "version": 3
   },
   "file_extension": ".py",
   "mimetype": "text/x-python",
   "name": "python",
   "nbconvert_exporter": "python",
   "pygments_lexer": "ipython3",
   "version": "3.13.0"
  }
 },
 "nbformat": 4,
 "nbformat_minor": 5
}
