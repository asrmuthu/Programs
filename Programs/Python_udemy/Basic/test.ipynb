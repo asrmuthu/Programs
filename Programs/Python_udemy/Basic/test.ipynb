{
 "cells": [
  {
   "cell_type": "code",
   "execution_count": 2,
   "id": "0096702d",
   "metadata": {},
   "outputs": [],
   "source": [
    "###Hi"
   ]
  },
  {
   "cell_type": "code",
   "execution_count": 3,
   "id": "66ec2f33",
   "metadata": {},
   "outputs": [
    {
     "data": {
      "text/plain": [
       "2"
      ]
     },
     "execution_count": 3,
     "metadata": {},
     "output_type": "execute_result"
    }
   ],
   "source": [
    "1+1"
   ]
  },
  {
   "cell_type": "code",
   "execution_count": 4,
   "id": "9567fc4a",
   "metadata": {},
   "outputs": [
    {
     "name": "stdout",
     "output_type": "stream",
     "text": [
      "Hello, World!\n"
     ]
    }
   ],
   "source": [
    "print(\"Hello, World!\")"
   ]
  },
  {
   "cell_type": "code",
   "execution_count": 5,
   "id": "c3f8526c",
   "metadata": {},
   "outputs": [
    {
     "name": "stdout",
     "output_type": "stream",
     "text": [
      "muthu\n",
      "Pandi\n"
     ]
    }
   ],
   "source": [
    "name = \"muthu\"\n",
    "Name = \"Pandi\"\n",
    "print(name)\n",
    "print(Name)"
   ]
  },
  {
   "cell_type": "code",
   "execution_count": 8,
   "id": "187b1ec9",
   "metadata": {},
   "outputs": [
    {
     "name": "stdout",
     "output_type": "stream",
     "text": [
      "You are an adult\n",
      "20\n",
      "130\n",
      "10 20 30\n"
     ]
    }
   ],
   "source": [
    "#intention\n",
    "age = 20\n",
    "if age > 18:\n",
    "    print(\"You are an adult\")\n",
    "else:\n",
    "    print(\"You are a minor\")\n",
    "print(age)\n",
    "total = 10 + 20 + 30 + 40 + \\\n",
    "20 + 10\n",
    "print(total)\n",
    "x=10; y = 20; z = 30\n",
    "print(x, y, z)\n"
   ]
  },
  {
   "cell_type": "code",
   "execution_count": 9,
   "id": "609de26a",
   "metadata": {},
   "outputs": [
    {
     "name": "stdout",
     "output_type": "stream",
     "text": [
      "<class 'int'>\n",
      "<class 'str'>\n"
     ]
    }
   ],
   "source": [
    "a  = 10\n",
    "print(type(a))\n",
    "a = \"Mu\"\n",
    "print(type(a))"
   ]
  },
  {
   "cell_type": "code",
   "execution_count": 10,
   "id": "acf98a41",
   "metadata": {},
   "outputs": [
    {
     "name": "stdout",
     "output_type": "stream",
     "text": [
      "Addition: 30\n",
      "Difference: -10\n",
      "Multiplication: 200\n",
      "Division: 0.5\n"
     ]
    }
   ],
   "source": [
    "num1 = input(\"Enter the first number: \")\n",
    "num2 = input(\"Enter the second number: \")\n",
    "add = int(num1) + int(num2)\n",
    "diff = int(num1) - int(num2)\n",
    "mul = int(num1) * int(num2)\n",
    "div = int(num1) / int(num2)\n",
    "print(\"Addition:\", add)\n",
    "print(\"Difference:\", diff)\n",
    "print(\"Multiplication:\", mul)\n",
    "print(\"Division:\", div)"
   ]
  },
  {
   "cell_type": "code",
   "execution_count": 11,
   "id": "61b2f128",
   "metadata": {},
   "outputs": [
    {
     "name": "stdout",
     "output_type": "stream",
     "text": [
      "You are a young adult\n"
     ]
    }
   ],
   "source": [
    "age = 20\n",
    "if age == 18:\n",
    "    print(\"You are an not adult\")\n",
    "elif age > 18:\n",
    "    print(\"You are a young adult\")\n",
    "else:\n",
    "    print(\"You are a minor\")"
   ]
  }
 ],
 "metadata": {
  "kernelspec": {
   "display_name": "Python 3",
   "language": "python",
   "name": "python3"
  },
  "language_info": {
   "codemirror_mode": {
    "name": "ipython",
    "version": 3
   },
   "file_extension": ".py",
   "mimetype": "text/x-python",
   "name": "python",
   "nbconvert_exporter": "python",
   "pygments_lexer": "ipython3",
   "version": "3.13.0"
  }
 },
 "nbformat": 4,
 "nbformat_minor": 5
}
